{
 "cells": [
  {
   "cell_type": "code",
   "execution_count": 1,
   "id": "69a5a952-ee50-42a7-8b9c-432099738d91",
   "metadata": {},
   "outputs": [],
   "source": [
    "from ansys.geometry.core import launch_modeler\n",
    "from ansys.geometry.core.math import Plane, Point3D, Point2D\n",
    "from ansys.geometry.core.misc import UNITS, Distance\n",
    "from ansys.geometry.core.sketch import Sketch\n",
    "from pint import Quantity"
   ]
  },
  {
   "cell_type": "code",
   "execution_count": 2,
   "id": "ee034d0d-a820-43a8-bce6-84eb628088f5",
   "metadata": {},
   "outputs": [],
   "source": [
    "modeler = launch_modeler()"
   ]
  },
  {
   "cell_type": "code",
   "execution_count": 6,
   "id": "614897d1-c917-4a44-8c0f-6e3d315b666e",
   "metadata": {},
   "outputs": [
    {
     "data": {
      "text/plain": [
       "{}"
      ]
     },
     "execution_count": 6,
     "metadata": {},
     "output_type": "execute_result"
    }
   ],
   "source": [
    "modeler.run_discovery_script_file(\"aerofoil_test.py\")"
   ]
  },
  {
   "cell_type": "code",
   "execution_count": null,
   "id": "966b0faa-2449-4ca1-b319-e432b0a1d526",
   "metadata": {},
   "outputs": [],
   "source": []
  }
 ],
 "metadata": {
  "kernelspec": {
   "display_name": "Python 3 (ipykernel)",
   "language": "python",
   "name": "python3"
  },
  "language_info": {
   "codemirror_mode": {
    "name": "ipython",
    "version": 3
   },
   "file_extension": ".py",
   "mimetype": "text/x-python",
   "name": "python",
   "nbconvert_exporter": "python",
   "pygments_lexer": "ipython3",
   "version": "3.10.11"
  }
 },
 "nbformat": 4,
 "nbformat_minor": 5
}
