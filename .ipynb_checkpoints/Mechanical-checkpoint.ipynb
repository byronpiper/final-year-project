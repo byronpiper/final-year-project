{
 "cells": [
  {
   "cell_type": "code",
   "execution_count": 13,
   "id": "1dcd5ed4-069c-428e-a7d0-92cd23c9c469",
   "metadata": {},
   "outputs": [],
   "source": [
    "import ansys.mechanical.core as pymechanical\n",
    "\n",
    "mechanical = pymechanical.launch_mechanical(batch=False)"
   ]
  },
  {
   "cell_type": "code",
   "execution_count": 14,
   "id": "cf8973ea-56cc-4ae2-9cd7-43d9f1960e4f",
   "metadata": {},
   "outputs": [
    {
     "data": {
      "text/plain": [
       "''"
      ]
     },
     "execution_count": 14,
     "metadata": {},
     "output_type": "execute_result"
    }
   ],
   "source": [
    "GEO_IMPORT_SCRIPT = \"\"\"\n",
    "geo_import_format = Ansys.Mechanical.DataModel.Enums.GeometryImportPreference.Format.Automatic\n",
    "geo_import_preferences = Ansys.ACT.Mechanical.Utilities.GeometryImportPreferences()\n",
    "geo_import_preferences.ProcessSurfaces = False\n",
    "geo_import_preferences.ProcessNamedSelections = True\n",
    "geo_import_preferences.NamedSelectionKey = \"\" \n",
    "geo_import = Model.GeometryImportGroup.AddGeometryImport()\n",
    "geo_import.Import(r\"{cad_path:s}\", geo_import_format, geo_import_preferences)\n",
    "\"\"\"\n",
    "\n",
    "cad_path = \"temp2.scdocx\"\n",
    "mechanical.run_python_script(GEO_IMPORT_SCRIPT.format(cad_path=cad_path))"
   ]
  },
  {
   "cell_type": "code",
   "execution_count": 15,
   "id": "1ce8e141-9175-4501-9649-6396f6abc964",
   "metadata": {},
   "outputs": [
    {
     "data": {
      "text/plain": [
       "''"
      ]
     },
     "execution_count": 15,
     "metadata": {},
     "output_type": "execute_result"
    }
   ],
   "source": [
    "meshing = \"\"\"\n",
    "ExtAPI.DataModel.Project.Model.Mesh.AddAutomaticMethod()\n",
    "method = ExtAPI.DataModel.GetObjectsByName(\"Automatic Method\")[0]\n",
    "method.Method = MethodType.MultiZone\n",
    "\n",
    "selection = ExtAPI.SelectionManager.CreateSelectionInfo(SelectionTypeEnum.GeometryEntities)\n",
    "selection.Ids = [9]\n",
    "method.Location = selection\n",
    "\n",
    "mesh = ExtAPI.DataModel.Project.Model.Mesh\n",
    "mesh.PhysicsPreference = MeshPhysicsPreferenceType.CFD\n",
    "mesh.GenerateMesh()\n",
    "\n",
    "#region Toolbar Action\n",
    "DataModel.Project.SaveAs(\"C:/Users\\SirHoneyBadger/Documents/Ansys/Workspaces/final-year-project/mesh.mechdb\", True)\n",
    "#endregion\n",
    "\n",
    "\"\"\"\n",
    "\n",
    "mechanical.run_python_script(meshing)"
   ]
  },
  {
   "cell_type": "code",
   "execution_count": 16,
   "id": "b7e383ea-5aa2-4c13-8fe7-4ed475a3ebd2",
   "metadata": {},
   "outputs": [],
   "source": [
    "mechanical.exit()"
   ]
  },
  {
   "cell_type": "code",
   "execution_count": null,
   "id": "47fa3d3b-d41b-47cc-986c-d0e1b7df4e3e",
   "metadata": {},
   "outputs": [],
   "source": []
  }
 ],
 "metadata": {
  "kernelspec": {
   "display_name": "Python 3 (ipykernel)",
   "language": "python",
   "name": "python3"
  },
  "language_info": {
   "codemirror_mode": {
    "name": "ipython",
    "version": 3
   },
   "file_extension": ".py",
   "mimetype": "text/x-python",
   "name": "python",
   "nbconvert_exporter": "python",
   "pygments_lexer": "ipython3",
   "version": "3.10.11"
  }
 },
 "nbformat": 4,
 "nbformat_minor": 5
}
