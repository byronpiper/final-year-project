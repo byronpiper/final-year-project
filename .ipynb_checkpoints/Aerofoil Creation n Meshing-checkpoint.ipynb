{
 "cells": [
  {
   "cell_type": "markdown",
   "id": "8177a753-f2ad-4a2c-aa2e-a9ac56d2591a",
   "metadata": {},
   "source": [
    "# This script creates an aerofil geometry and meshes it"
   ]
  },
  {
   "cell_type": "code",
   "execution_count": 15,
   "id": "66579065-f46b-4f39-920f-b9c321801966",
   "metadata": {},
   "outputs": [
    {
     "name": "stdout",
     "output_type": "stream",
     "text": [
      "Creating Aerofoil Geometry.\n",
      "Aerofoil Geometry Created.\n",
      "Meshing Aerofoil.\n"
     ]
    },
    {
     "ename": "_MultiThreadedRendezvous",
     "evalue": "<_MultiThreadedRendezvous of RPC that terminated with:\n\tstatus = StatusCode.UNKNOWN\n\tdetails = \"expected IList[int], got MechanicalSelectionInfo\"\n\tdebug_error_string = \"UNKNOWN:Error received from peer  {created_time:\"2024-05-06T21:15:26.4784033+00:00\", grpc_status:2, grpc_message:\"expected IList[int], got MechanicalSelectionInfo\"}\"\n>",
     "output_type": "error",
     "traceback": [
      "\u001b[1;31m---------------------------------------------------------------------------\u001b[0m",
      "\u001b[1;31m_MultiThreadedRendezvous\u001b[0m                  Traceback (most recent call last)",
      "Cell \u001b[1;32mIn[15], line 41\u001b[0m\n\u001b[0;32m     17\u001b[0m mechanical \u001b[38;5;241m=\u001b[39m pymechanical\u001b[38;5;241m.\u001b[39mlaunch_mechanical(batch\u001b[38;5;241m=\u001b[39m\u001b[38;5;28;01mFalse\u001b[39;00m)\n\u001b[0;32m     18\u001b[0m script \u001b[38;5;241m=\u001b[39m \u001b[38;5;124m\"\"\"\u001b[39m\n\u001b[0;32m     19\u001b[0m \u001b[38;5;124mgeo_import_format = Ansys.Mechanical.DataModel.Enums.GeometryImportPreference.Format.Automatic\u001b[39m\n\u001b[0;32m     20\u001b[0m \u001b[38;5;124mgeo_import_preferences = Ansys.ACT.Mechanical.Utilities.GeometryImportPreferences()\u001b[39m\n\u001b[1;32m   (...)\u001b[0m\n\u001b[0;32m     39\u001b[0m \u001b[38;5;124mDataModel.Project.SaveAs(\u001b[39m\u001b[38;5;124m\"\u001b[39m\u001b[38;5;124mC:/Users/SirHoneyBadger/Documents/Ansys/Workspaces/final-year-project/mesh.mechdb\u001b[39m\u001b[38;5;124m\"\u001b[39m\u001b[38;5;124m, True)\u001b[39m\n\u001b[0;32m     40\u001b[0m \u001b[38;5;124m\"\"\"\u001b[39m\n\u001b[1;32m---> 41\u001b[0m \u001b[43mmechanical\u001b[49m\u001b[38;5;241;43m.\u001b[39;49m\u001b[43mrun_python_script\u001b[49m\u001b[43m(\u001b[49m\u001b[43mscript\u001b[49m\u001b[43m)\u001b[49m\n\u001b[0;32m     42\u001b[0m \u001b[38;5;28mprint\u001b[39m(\u001b[38;5;124m\"\u001b[39m\u001b[38;5;124mMeshing Complete.\u001b[39m\u001b[38;5;124m\"\u001b[39m)\n",
      "File \u001b[1;32m~\\.ansys_python_venvs\\wing-design-project\\lib\\site-packages\\ansys\\mechanical\\core\\mechanical.py:981\u001b[0m, in \u001b[0;36mMechanical.run_python_script\u001b[1;34m(self, script_block, enable_logging, log_level, progress_interval)\u001b[0m\n\u001b[0;32m    905\u001b[0m \u001b[38;5;250m\u001b[39m\u001b[38;5;124;03m\"\"\"Run a Python script block inside Mechanical.\u001b[39;00m\n\u001b[0;32m    906\u001b[0m \n\u001b[0;32m    907\u001b[0m \u001b[38;5;124;03mIt returns the string value of the last executed statement. If the value cannot be\u001b[39;00m\n\u001b[1;32m   (...)\u001b[0m\n\u001b[0;32m    978\u001b[0m \n\u001b[0;32m    979\u001b[0m \u001b[38;5;124;03m\"\"\"\u001b[39;00m\n\u001b[0;32m    980\u001b[0m \u001b[38;5;28mself\u001b[39m\u001b[38;5;241m.\u001b[39mverify_valid_connection()\n\u001b[1;32m--> 981\u001b[0m result_as_string \u001b[38;5;241m=\u001b[39m \u001b[38;5;28;43mself\u001b[39;49m\u001b[38;5;241;43m.\u001b[39;49m\u001b[43m__call_run_python_script\u001b[49m\u001b[43m(\u001b[49m\n\u001b[0;32m    982\u001b[0m \u001b[43m    \u001b[49m\u001b[43mscript_block\u001b[49m\u001b[43m,\u001b[49m\u001b[43m \u001b[49m\u001b[43menable_logging\u001b[49m\u001b[43m,\u001b[49m\u001b[43m \u001b[49m\u001b[43mlog_level\u001b[49m\u001b[43m,\u001b[49m\u001b[43m \u001b[49m\u001b[43mprogress_interval\u001b[49m\n\u001b[0;32m    983\u001b[0m \u001b[43m\u001b[49m\u001b[43m)\u001b[49m\n\u001b[0;32m    984\u001b[0m \u001b[38;5;28;01mreturn\u001b[39;00m result_as_string\n",
      "File \u001b[1;32m~\\.ansys_python_venvs\\wing-design-project\\lib\\site-packages\\ansys\\mechanical\\core\\mechanical.py:1702\u001b[0m, in \u001b[0;36mMechanical.__call_run_python_script\u001b[1;34m(self, script_code, enable_logging, log_level, progress_interval)\u001b[0m\n\u001b[0;32m   1699\u001b[0m \u001b[38;5;28mself\u001b[39m\u001b[38;5;241m.\u001b[39m_busy \u001b[38;5;241m=\u001b[39m \u001b[38;5;28;01mTrue\u001b[39;00m\n\u001b[0;32m   1701\u001b[0m \u001b[38;5;28;01mtry\u001b[39;00m:\n\u001b[1;32m-> 1702\u001b[0m     \u001b[38;5;28;01mfor\u001b[39;00m runscript_response \u001b[38;5;129;01min\u001b[39;00m \u001b[38;5;28mself\u001b[39m\u001b[38;5;241m.\u001b[39m_stub\u001b[38;5;241m.\u001b[39mRunPythonScript(request):\n\u001b[0;32m   1703\u001b[0m         \u001b[38;5;28;01mif\u001b[39;00m runscript_response\u001b[38;5;241m.\u001b[39mlog_info \u001b[38;5;241m==\u001b[39m \u001b[38;5;124m\"\u001b[39m\u001b[38;5;124m__done__\u001b[39m\u001b[38;5;124m\"\u001b[39m:\n\u001b[0;32m   1704\u001b[0m             result \u001b[38;5;241m=\u001b[39m runscript_response\u001b[38;5;241m.\u001b[39mscript_result\n",
      "File \u001b[1;32m~\\.ansys_python_venvs\\wing-design-project\\lib\\site-packages\\grpc\\_channel.py:543\u001b[0m, in \u001b[0;36m_Rendezvous.__next__\u001b[1;34m(self)\u001b[0m\n\u001b[0;32m    542\u001b[0m \u001b[38;5;28;01mdef\u001b[39;00m \u001b[38;5;21m__next__\u001b[39m(\u001b[38;5;28mself\u001b[39m):\n\u001b[1;32m--> 543\u001b[0m     \u001b[38;5;28;01mreturn\u001b[39;00m \u001b[38;5;28;43mself\u001b[39;49m\u001b[38;5;241;43m.\u001b[39;49m\u001b[43m_next\u001b[49m\u001b[43m(\u001b[49m\u001b[43m)\u001b[49m\n",
      "File \u001b[1;32m~\\.ansys_python_venvs\\wing-design-project\\lib\\site-packages\\grpc\\_channel.py:969\u001b[0m, in \u001b[0;36m_MultiThreadedRendezvous._next\u001b[1;34m(self)\u001b[0m\n\u001b[0;32m    967\u001b[0m     \u001b[38;5;28;01mraise\u001b[39;00m \u001b[38;5;167;01mStopIteration\u001b[39;00m()\n\u001b[0;32m    968\u001b[0m \u001b[38;5;28;01melif\u001b[39;00m \u001b[38;5;28mself\u001b[39m\u001b[38;5;241m.\u001b[39m_state\u001b[38;5;241m.\u001b[39mcode \u001b[38;5;129;01mis\u001b[39;00m \u001b[38;5;129;01mnot\u001b[39;00m \u001b[38;5;28;01mNone\u001b[39;00m:\n\u001b[1;32m--> 969\u001b[0m     \u001b[38;5;28;01mraise\u001b[39;00m \u001b[38;5;28mself\u001b[39m\n",
      "\u001b[1;31m_MultiThreadedRendezvous\u001b[0m: <_MultiThreadedRendezvous of RPC that terminated with:\n\tstatus = StatusCode.UNKNOWN\n\tdetails = \"expected IList[int], got MechanicalSelectionInfo\"\n\tdebug_error_string = \"UNKNOWN:Error received from peer  {created_time:\"2024-05-06T21:15:26.4784033+00:00\", grpc_status:2, grpc_message:\"expected IList[int], got MechanicalSelectionInfo\"}\"\n>"
     ]
    }
   ],
   "source": [
    "from ansys.geometry.core import launch_modeler_with_spaceclaim\n",
    "from ansys.geometry.core.math import Plane, Point3D, Point2D\n",
    "from ansys.geometry.core.misc import UNITS, Distance\n",
    "from ansys.geometry.core.sketch import Sketch\n",
    "from pint import Quantity\n",
    "import ansys.mechanical.core as pymechanical\n",
    "\n",
    "# Geometry\n",
    "print(\"Creating Aerofoil Geometry.\")\n",
    "modeler = launch_modeler_with_spaceclaim(hidden=True)\n",
    "modeler.run_discovery_script_file(\"aerofoil_test.py\")\n",
    "modeler.close()\n",
    "print(\"Aerofoil Geometry Created.\")\n",
    "\n",
    "# Mesh\n",
    "print(\"Meshing Aerofoil.\")\n",
    "mechanical = pymechanical.launch_mechanical(batch=False)\n",
    "script = \"\"\"\n",
    "geo_import_format = Ansys.Mechanical.DataModel.Enums.GeometryImportPreference.Format.Automatic\n",
    "geo_import_preferences = Ansys.ACT.Mechanical.Utilities.GeometryImportPreferences()\n",
    "geo_import_preferences.ProcessSurfaces = False\n",
    "geo_import_preferences.ProcessNamedSelections = True\n",
    "geo_import_preferences.NamedSelectionKey = \"\" \n",
    "geo_import = Model.GeometryImportGroup.AddGeometryImport()\n",
    "geo_import.Import(\"aerofoil.scdocx\", geo_import_format, geo_import_preferences)\n",
    "\n",
    "ExtAPI.DataModel.Project.Model.Mesh.AddAutomaticMethod()\n",
    "method = ExtAPI.DataModel.GetObjectsByName(\"Automatic Method\")[0]\n",
    "method.Method = MethodType.MultiZone\n",
    "\n",
    "selection = ExtAPI.SelectionManager.CreateSelectionInfo(SelectionTypeEnum.GeometryEntities)\n",
    "selection.Ids = ExtAPI.DataModel.GetObjectsByName(\"Freeflow\")[0].Location.Ids\n",
    "method.Location = selection\n",
    "\n",
    "mesh = ExtAPI.DataModel.Project.Model.Mesh\n",
    "mesh.PhysicsPreference = MeshPhysicsPreferenceType.CFD\n",
    "mesh.GenerateMesh()\n",
    "\n",
    "DataModel.Project.SaveAs(\"C:/Users/SirHoneyBadger/Documents/Ansys/Workspaces/final-year-project/mesh.mechdb\", True)\n",
    "\"\"\"\n",
    "mechanical.run_python_script(script)\n",
    "print(\"Meshing Complete.\")"
   ]
  }
 ],
 "metadata": {
  "kernelspec": {
   "display_name": "Python 3 (ipykernel)",
   "language": "python",
   "name": "python3"
  },
  "language_info": {
   "codemirror_mode": {
    "name": "ipython",
    "version": 3
   },
   "file_extension": ".py",
   "mimetype": "text/x-python",
   "name": "python",
   "nbconvert_exporter": "python",
   "pygments_lexer": "ipython3",
   "version": "3.10.11"
  }
 },
 "nbformat": 4,
 "nbformat_minor": 5
}
